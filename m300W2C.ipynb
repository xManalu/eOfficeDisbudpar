{
  "nbformat": 4,
  "nbformat_minor": 0,
  "metadata": {
    "colab": {
      "name": "m300W2C.ipynb",
      "provenance": [],
      "mount_file_id": "1odf8MDdmVE8ZZV955uo3WGFu730Fnekg",
      "authorship_tag": "ABX9TyNnr1NV+zBc+OGhuW0mzM1b",
      "include_colab_link": true
    },
    "kernelspec": {
      "name": "python3",
      "display_name": "Python 3"
    },
    "accelerator": "GPU"
  },
  "cells": [
    {
      "cell_type": "markdown",
      "metadata": {
        "id": "view-in-github",
        "colab_type": "text"
      },
      "source": [
        "<a href=\"https://colab.research.google.com/github/boymanalu/eOfficeDisbudpar/blob/master/m300W2C.ipynb\" target=\"_parent\"><img src=\"https://colab.research.google.com/assets/colab-badge.svg\" alt=\"Open In Colab\"/></a>"
      ]
    },
    {
      "cell_type": "code",
      "metadata": {
        "id": "NQjbGW8-nN-J",
        "colab_type": "code",
        "colab": {
          "base_uri": "https://localhost:8080/",
          "height": 34
        },
        "outputId": "948f717b-04ee-47dc-e128-84377ee3d51c"
      },
      "source": [
        "import pandas as pd\n",
        "\n",
        "# Matplot\n",
        "import matplotlib.pyplot as plt\n",
        "%matplotlib inline\n",
        "\n",
        "# Scikit-learn\n",
        "from sklearn.model_selection import train_test_split\n",
        "from sklearn.preprocessing import LabelEncoder\n",
        "from sklearn.metrics import confusion_matrix, classification_report, accuracy_score\n",
        "from sklearn.manifold import TSNE\n",
        "from sklearn.feature_extraction.text import TfidfVectorizer\n",
        "\n",
        "# Keras\n",
        "from keras.preprocessing.text import Tokenizer\n",
        "from keras.preprocessing.sequence import pad_sequences\n",
        "from keras.models import Sequential\n",
        "from keras.layers import Activation, Dense, Dropout, Embedding, Flatten, Conv1D, MaxPooling1D, LSTM\n",
        "from keras import utils\n",
        "from keras.callbacks import ReduceLROnPlateau, EarlyStopping\n",
        "\n",
        "# nltk\n",
        "import nltk\n",
        "from nltk.corpus import stopwords\n",
        "from  nltk.stem import SnowballStemmer\n",
        "\n",
        "# Word2vec\n",
        "import gensim\n",
        "\n",
        "# Utility\n",
        "import re\n",
        "import numpy as np\n",
        "import os\n",
        "from collections import Counter\n",
        "import logging\n",
        "import time\n",
        "import pickle\n",
        "import itertools\n",
        "\n",
        "# Set log\n",
        "logging.basicConfig(format='%(asctime)s : %(levelname)s : %(message)s', level=logging.INFO)\n",
        "\n",
        "nb_path = '/content/drive/My Drive/apython/'\n",
        "# DATASET\n",
        "DATASET_COLUMNS = [\"no\",\"comments\", \"ratings\"]\n",
        "DATASET_ENCODING = \"ISO-8859-1\"\n",
        "TRAIN_SIZE = 0.8\n",
        "\n",
        "# TEXT CLENAING\n",
        "TEXT_CLEANING_RE = \"@\\S+|https?:\\S+|http?:\\S|[^A-Za-z0-9]+\"\n",
        "\n",
        "# WORD2VEC \n",
        "W2V_SIZE = 300\n",
        "W2V_WINDOW = 7\n",
        "W2V_EPOCH = 5\n",
        "W2V_MIN_COUNT = 10\n",
        "\n",
        "# KERAS\n",
        "SEQUENCE_LENGTH = 300\n",
        "EPOCHS = 32\n",
        "BATCH_SIZE = 1024\n",
        "\n",
        "# SENTIMENT\n",
        "POSITIVE = \"POSITIF\"\n",
        "NEGATIVE = \"NEGATIF\"\n",
        "NEUTRAL = \"NEUTRAL\"\n",
        "SENTIMENT_THRESHOLDS = (0.4, 0.7)"
      ],
      "execution_count": null,
      "outputs": [
        {
          "output_type": "stream",
          "text": [
            "Using TensorFlow backend.\n"
          ],
          "name": "stderr"
        }
      ]
    },
    {
      "cell_type": "code",
      "metadata": {
        "id": "KKOjS0JrnblW",
        "colab_type": "code",
        "colab": {
          "base_uri": "https://localhost:8080/",
          "height": 51
        },
        "outputId": "fc1593c9-313a-4a78-99dc-f07be7ca4089"
      },
      "source": [
        "df = pd.read_excel(nb_path+\"dataset_best.xlsx\")\n",
        "df_train, df_test = train_test_split(df, test_size=1-TRAIN_SIZE, random_state=42)\n",
        "print(\"TRAIN size:\", len(df_train))\n",
        "print(\"TEST size:\", len(df_test))"
      ],
      "execution_count": null,
      "outputs": [
        {
          "output_type": "stream",
          "text": [
            "TRAIN size: 210044\n",
            "TEST size: 52511\n"
          ],
          "name": "stdout"
        }
      ]
    },
    {
      "cell_type": "code",
      "metadata": {
        "id": "OblaestHnm8F",
        "colab_type": "code",
        "colab": {
          "base_uri": "https://localhost:8080/",
          "height": 190
        },
        "outputId": "79bdc6e5-5f33-4fd2-c96a-61e7b91f0d87"
      },
      "source": [
        "from gensim.models import Word2Vec\n",
        "w2v_model = Word2Vec.load(nb_path+\"Model_W2V_300.model\")"
      ],
      "execution_count": null,
      "outputs": [
        {
          "output_type": "stream",
          "text": [
            "2020-06-25 03:59:29,967 : INFO : loading Word2Vec object from /content/drive/My Drive/apython/Model_W2V_300.model\n",
            "/usr/local/lib/python3.6/dist-packages/smart_open/smart_open_lib.py:253: UserWarning: This function is deprecated, use smart_open.open instead. See the migration notes for details: https://github.com/RaRe-Technologies/smart_open/blob/master/README.rst#migrating-to-the-new-open-function\n",
            "  'See the migration notes for details: %s' % _MIGRATION_NOTES_URL\n",
            "2020-06-25 03:59:31,939 : INFO : loading wv recursively from /content/drive/My Drive/apython/Model_W2V_300.model.wv.* with mmap=None\n",
            "2020-06-25 03:59:31,940 : INFO : setting ignored attribute vectors_norm to None\n",
            "2020-06-25 03:59:31,942 : INFO : loading vocabulary recursively from /content/drive/My Drive/apython/Model_W2V_300.model.vocabulary.* with mmap=None\n",
            "2020-06-25 03:59:31,956 : INFO : loading trainables recursively from /content/drive/My Drive/apython/Model_W2V_300.model.trainables.* with mmap=None\n",
            "2020-06-25 03:59:31,959 : INFO : setting ignored attribute cum_table to None\n",
            "2020-06-25 03:59:31,965 : INFO : loaded /content/drive/My Drive/apython/Model_W2V_300.model\n"
          ],
          "name": "stderr"
        }
      ]
    },
    {
      "cell_type": "code",
      "metadata": {
        "id": "HHEuZ1xGnp9P",
        "colab_type": "code",
        "colab": {
          "base_uri": "https://localhost:8080/",
          "height": 68
        },
        "outputId": "d7d3f44d-a070-496d-8397-aad5cbe0d09d"
      },
      "source": [
        "%%time\n",
        "tokenizer = Tokenizer()\n",
        "tokenizer.fit_on_texts(df_train.comments)\n",
        "\n",
        "vocab_size = len(tokenizer.word_index) + 1\n",
        "print(\"Total words\", vocab_size)"
      ],
      "execution_count": null,
      "outputs": [
        {
          "output_type": "stream",
          "text": [
            "Total words 59761\n",
            "CPU times: user 2.57 s, sys: 13.1 ms, total: 2.58 s\n",
            "Wall time: 2.58 s\n"
          ],
          "name": "stdout"
        }
      ]
    },
    {
      "cell_type": "code",
      "metadata": {
        "id": "J-bjbOySnyqt",
        "colab_type": "code",
        "colab": {
          "base_uri": "https://localhost:8080/",
          "height": 51
        },
        "outputId": "5ea5c70e-5626-42a0-ac6b-2651986a3957"
      },
      "source": [
        "%%time\n",
        "x_train = pad_sequences(tokenizer.texts_to_sequences(df_train.comments), maxlen=SEQUENCE_LENGTH)\n",
        "x_test = pad_sequences(tokenizer.texts_to_sequences(df_test.comments), maxlen=SEQUENCE_LENGTH)"
      ],
      "execution_count": null,
      "outputs": [
        {
          "output_type": "stream",
          "text": [
            "CPU times: user 4.11 s, sys: 91.3 ms, total: 4.21 s\n",
            "Wall time: 4.21 s\n"
          ],
          "name": "stdout"
        }
      ]
    },
    {
      "cell_type": "code",
      "metadata": {
        "id": "fZiG0iJDn151",
        "colab_type": "code",
        "colab": {
          "base_uri": "https://localhost:8080/",
          "height": 34
        },
        "outputId": "6ff6a45f-225c-40ad-def7-b9bb59085488"
      },
      "source": [
        "labels = df_train.ratings.unique().tolist()\n",
        "labels"
      ],
      "execution_count": null,
      "outputs": [
        {
          "output_type": "execute_result",
          "data": {
            "text/plain": [
              "['POSITIF', 'NEGATIF']"
            ]
          },
          "metadata": {
            "tags": []
          },
          "execution_count": 7
        }
      ]
    },
    {
      "cell_type": "code",
      "metadata": {
        "id": "OiF7MQf2n37-",
        "colab_type": "code",
        "colab": {
          "base_uri": "https://localhost:8080/",
          "height": 102
        },
        "outputId": "10ef0310-21a0-4c4c-b526-96417deca205"
      },
      "source": [
        "encoder = LabelEncoder()\n",
        "encoder.fit(df_train.ratings.tolist())\n",
        "\n",
        "y_train = encoder.transform(df_train.ratings.tolist())\n",
        "y_test = encoder.transform(df_test.ratings.tolist())\n",
        "\n",
        "y_train = y_train.reshape(-1,1)\n",
        "y_test = y_test.reshape(-1,1)\n",
        "\n",
        "print(\"x_train\", x_train.shape)\n",
        "print(\"y_train\", y_train.shape)\n",
        "print()\n",
        "print(\"x_test\", x_test.shape)\n",
        "print(\"y_test\", y_test.shape)"
      ],
      "execution_count": null,
      "outputs": [
        {
          "output_type": "stream",
          "text": [
            "x_train (210044, 300)\n",
            "y_train (210044, 1)\n",
            "\n",
            "x_test (52511, 300)\n",
            "y_test (52511, 1)\n"
          ],
          "name": "stdout"
        }
      ]
    },
    {
      "cell_type": "code",
      "metadata": {
        "id": "eGmSucutn8b2",
        "colab_type": "code",
        "colab": {
          "base_uri": "https://localhost:8080/",
          "height": 34
        },
        "outputId": "ed23910b-3277-4068-baad-82e48540210d"
      },
      "source": [
        "embedding_matrix = np.zeros((10000, W2V_SIZE))\n",
        "for word, i in tokenizer.word_index.items():\n",
        "  if word in w2v_model.wv:\n",
        "    embedding_matrix[i] = w2v_model.wv[word]\n",
        "print(embedding_matrix.shape)"
      ],
      "execution_count": null,
      "outputs": [
        {
          "output_type": "stream",
          "text": [
            "(59761, 300)\n"
          ],
          "name": "stdout"
        }
      ]
    },
    {
      "cell_type": "code",
      "metadata": {
        "id": "lx_-_59Gn-Zp",
        "colab_type": "code",
        "colab": {}
      },
      "source": [
        "embedding_layer = Embedding(vocab_size, W2V_SIZE, weights=[embedding_matrix], input_length=SEQUENCE_LENGTH, trainable=False)"
      ],
      "execution_count": null,
      "outputs": []
    },
    {
      "cell_type": "code",
      "metadata": {
        "id": "FXDWgdIIoAiO",
        "colab_type": "code",
        "colab": {
          "base_uri": "https://localhost:8080/",
          "height": 289
        },
        "outputId": "b97fce4d-9c0f-426f-d779-fb788730ac24"
      },
      "source": [
        "model = Sequential()\n",
        "model.add(embedding_layer)\n",
        "model.add(Dropout(0.5))\n",
        "model.add(LSTM(100, dropout=0.2, recurrent_dropout=0.2))\n",
        "model.add(Dense(1, activation='sigmoid'))\n",
        "\n",
        "model.summary()"
      ],
      "execution_count": null,
      "outputs": [
        {
          "output_type": "stream",
          "text": [
            "Model: \"sequential_1\"\n",
            "_________________________________________________________________\n",
            "Layer (type)                 Output Shape              Param #   \n",
            "=================================================================\n",
            "embedding_1 (Embedding)      (None, 300, 300)          17928300  \n",
            "_________________________________________________________________\n",
            "dropout_1 (Dropout)          (None, 300, 300)          0         \n",
            "_________________________________________________________________\n",
            "lstm_1 (LSTM)                (None, 100)               160400    \n",
            "_________________________________________________________________\n",
            "dense_1 (Dense)              (None, 1)                 101       \n",
            "=================================================================\n",
            "Total params: 18,088,801\n",
            "Trainable params: 160,501\n",
            "Non-trainable params: 17,928,300\n",
            "_________________________________________________________________\n"
          ],
          "name": "stdout"
        }
      ]
    },
    {
      "cell_type": "code",
      "metadata": {
        "id": "X_OiESE9oEiY",
        "colab_type": "code",
        "colab": {}
      },
      "source": [
        "import keras\n",
        "opt = keras.optimizers.Adam()\n",
        "model.compile(loss='mse',\n",
        "              optimizer=opt,\n",
        "              metrics=['accuracy'])"
      ],
      "execution_count": null,
      "outputs": []
    },
    {
      "cell_type": "code",
      "metadata": {
        "id": "d-MOzEc8oFoe",
        "colab_type": "code",
        "colab": {}
      },
      "source": [
        "callbacks = [ ReduceLROnPlateau(monitor='val_loss', patience=5, cooldown=0),\n",
        "              EarlyStopping(monitor='val_accuracy', min_delta=1e-4, patience=5)]"
      ],
      "execution_count": null,
      "outputs": []
    },
    {
      "cell_type": "code",
      "metadata": {
        "id": "gEsg34looHdP",
        "colab_type": "code",
        "colab": {
          "base_uri": "https://localhost:8080/",
          "height": 884
        },
        "outputId": "a8d0c570-67a6-43e5-8fe6-d07d79a18fe3"
      },
      "source": [
        "%%time\n",
        "history = model.fit(x_train, y_train,\n",
        "                    batch_size=BATCH_SIZE,\n",
        "                    epochs=100,\n",
        "                    validation_split=0.1,\n",
        "                    verbose=1,\n",
        "                    callbacks=callbacks)"
      ],
      "execution_count": null,
      "outputs": [
        {
          "output_type": "stream",
          "text": [
            "Train on 189039 samples, validate on 21005 samples\n",
            "Epoch 1/100\n",
            "189039/189039 [==============================] - 154s 813us/step - loss: 0.1248 - accuracy: 0.8317 - val_loss: 0.1115 - val_accuracy: 0.8503\n",
            "Epoch 2/100\n",
            "189039/189039 [==============================] - 149s 789us/step - loss: 0.1126 - accuracy: 0.8489 - val_loss: 0.1086 - val_accuracy: 0.8547\n",
            "Epoch 3/100\n",
            "189039/189039 [==============================] - 150s 792us/step - loss: 0.1102 - accuracy: 0.8526 - val_loss: 0.1075 - val_accuracy: 0.8574\n",
            "Epoch 4/100\n",
            "189039/189039 [==============================] - 149s 788us/step - loss: 0.1086 - accuracy: 0.8551 - val_loss: 0.1066 - val_accuracy: 0.8592\n",
            "Epoch 5/100\n",
            "189039/189039 [==============================] - 150s 791us/step - loss: 0.1075 - accuracy: 0.8566 - val_loss: 0.1053 - val_accuracy: 0.8598\n",
            "Epoch 6/100\n",
            "189039/189039 [==============================] - 151s 799us/step - loss: 0.1063 - accuracy: 0.8580 - val_loss: 0.1046 - val_accuracy: 0.8614\n",
            "Epoch 7/100\n",
            "189039/189039 [==============================] - 150s 794us/step - loss: 0.1054 - accuracy: 0.8599 - val_loss: 0.1044 - val_accuracy: 0.8621\n",
            "Epoch 8/100\n",
            "189039/189039 [==============================] - 150s 796us/step - loss: 0.1046 - accuracy: 0.8606 - val_loss: 0.1037 - val_accuracy: 0.8627\n",
            "Epoch 9/100\n",
            "189039/189039 [==============================] - 150s 793us/step - loss: 0.1041 - accuracy: 0.8616 - val_loss: 0.1036 - val_accuracy: 0.8634\n",
            "Epoch 10/100\n",
            "189039/189039 [==============================] - 152s 807us/step - loss: 0.1035 - accuracy: 0.8628 - val_loss: 0.1034 - val_accuracy: 0.8629\n",
            "Epoch 11/100\n",
            "189039/189039 [==============================] - 150s 794us/step - loss: 0.1028 - accuracy: 0.8633 - val_loss: 0.1030 - val_accuracy: 0.8637\n",
            "Epoch 12/100\n",
            "189039/189039 [==============================] - 152s 806us/step - loss: 0.1025 - accuracy: 0.8639 - val_loss: 0.1031 - val_accuracy: 0.8632\n",
            "Epoch 13/100\n",
            "189039/189039 [==============================] - 151s 798us/step - loss: 0.1019 - accuracy: 0.8649 - val_loss: 0.1029 - val_accuracy: 0.8643\n",
            "Epoch 14/100\n",
            "189039/189039 [==============================] - 151s 799us/step - loss: 0.1018 - accuracy: 0.8647 - val_loss: 0.1029 - val_accuracy: 0.8643\n",
            "Epoch 15/100\n",
            "189039/189039 [==============================] - 151s 796us/step - loss: 0.1012 - accuracy: 0.8663 - val_loss: 0.1026 - val_accuracy: 0.8648\n",
            "Epoch 16/100\n",
            "189039/189039 [==============================] - 151s 799us/step - loss: 0.1008 - accuracy: 0.8666 - val_loss: 0.1025 - val_accuracy: 0.8643\n",
            "Epoch 17/100\n",
            "189039/189039 [==============================] - 150s 794us/step - loss: 0.1005 - accuracy: 0.8671 - val_loss: 0.1025 - val_accuracy: 0.8652\n",
            "Epoch 18/100\n",
            "189039/189039 [==============================] - 149s 790us/step - loss: 0.1001 - accuracy: 0.8677 - val_loss: 0.1027 - val_accuracy: 0.8649\n",
            "Epoch 19/100\n",
            "189039/189039 [==============================] - 150s 796us/step - loss: 0.0996 - accuracy: 0.8683 - val_loss: 0.1023 - val_accuracy: 0.8662\n",
            "Epoch 20/100\n",
            "189039/189039 [==============================] - 151s 800us/step - loss: 0.0993 - accuracy: 0.8686 - val_loss: 0.1023 - val_accuracy: 0.8649\n",
            "Epoch 21/100\n",
            "189039/189039 [==============================] - 151s 799us/step - loss: 0.0991 - accuracy: 0.8688 - val_loss: 0.1025 - val_accuracy: 0.8648\n",
            "Epoch 22/100\n",
            "189039/189039 [==============================] - 150s 794us/step - loss: 0.0988 - accuracy: 0.8699 - val_loss: 0.1026 - val_accuracy: 0.8646\n",
            "Epoch 23/100\n",
            "189039/189039 [==============================] - 151s 800us/step - loss: 0.0987 - accuracy: 0.8697 - val_loss: 0.1024 - val_accuracy: 0.8649\n",
            "Epoch 24/100\n",
            "189039/189039 [==============================] - 151s 801us/step - loss: 0.0983 - accuracy: 0.8705 - val_loss: 0.1026 - val_accuracy: 0.8656\n",
            "CPU times: user 1h 23min 8s, sys: 11min 29s, total: 1h 34min 37s\n",
            "Wall time: 1h 17s\n"
          ],
          "name": "stdout"
        }
      ]
    },
    {
      "cell_type": "code",
      "metadata": {
        "id": "B3k7CgVcojo5",
        "colab_type": "code",
        "colab": {
          "base_uri": "https://localhost:8080/",
          "height": 119
        },
        "outputId": "f8a699b7-08ec-4178-a55e-cf1161cdd52c"
      },
      "source": [
        "%%time\n",
        "score = model.evaluate(x_test, y_test, batch_size=BATCH_SIZE)\n",
        "print()\n",
        "print(\"ACCURACY:\",score[1])\n",
        "print(\"LOSS:\",score[0])"
      ],
      "execution_count": null,
      "outputs": [
        {
          "output_type": "stream",
          "text": [
            "52511/52511 [==============================] - 10s 191us/step\n",
            "\n",
            "ACCURACY: 0.8665803074836731\n",
            "LOSS: 0.10133711823728955\n",
            "CPU times: user 6.29 s, sys: 2.48 s, total: 8.77 s\n",
            "Wall time: 10.1 s\n"
          ],
          "name": "stdout"
        }
      ]
    },
    {
      "cell_type": "code",
      "metadata": {
        "id": "daO9s6sVomXx",
        "colab_type": "code",
        "colab": {
          "base_uri": "https://localhost:8080/",
          "height": 545
        },
        "outputId": "9d0ac497-e52c-44ac-ea44-b996ee4545b7"
      },
      "source": [
        "acc = history.history['accuracy']\n",
        "val_acc = history.history['val_accuracy']\n",
        "loss = history.history['loss']\n",
        "val_loss = history.history['val_loss']\n",
        " \n",
        "epochs = range(len(acc))\n",
        " \n",
        "plt.plot(epochs, acc, 'b', label='Training acc')\n",
        "plt.plot(epochs, val_acc, 'r', label='Validation acc')\n",
        "plt.title('Training and validation accuracy')\n",
        "plt.legend()\n",
        " \n",
        "plt.figure()\n",
        " \n",
        "plt.plot(epochs, loss, 'b', label='Training loss')\n",
        "plt.plot(epochs, val_loss, 'r', label='Validation loss')\n",
        "plt.title('Training and validation loss')\n",
        "plt.legend()\n",
        " \n",
        "plt.show()"
      ],
      "execution_count": null,
      "outputs": [
        {
          "output_type": "display_data",
          "data": {
            "image/png": "[encoded data removed]",
            "text/plain": [
              "<Figure size 432x288 with 1 Axes>"
            ]
          },
          "metadata": {
            "tags": [],
            "needs_background": "light"
          }
        },
        {
          "output_type": "display_data",
          "data": {
            "image/png": "[encoded data removed]",
            "text/plain": [
              "<Figure size 432x288 with 1 Axes>"
            ]
          },
          "metadata": {
            "tags": [],
            "needs_background": "light"
          }
        }
      ]
    },
    {
      "cell_type": "code",
      "metadata": {
        "id": "HSUHkgYqowAW",
        "colab_type": "code",
        "colab": {}
      },
      "source": [
        "def decode_sentiment(score, include_neutral=True):\n",
        "    if include_neutral:        \n",
        "        #label = NEUTRAL\n",
        "        if score <= SENTIMENT_THRESHOLDS[0]:\n",
        "            label = NEGATIVE\n",
        "        elif score >= SENTIMENT_THRESHOLDS[1]:\n",
        "            label = POSITIVE\n",
        "        return label\n",
        "    else:\n",
        "        return NEGATIVE if score < 0.5 else POSITIVE\n",
        "\n",
        "def predict(text, include_neutral=True):\n",
        "    start_at = time.time()\n",
        "    # Tokenize text\n",
        "    x_test = pad_sequences(tokenizer.texts_to_sequences([text]), maxlen=SEQUENCE_LENGTH)\n",
        "    # Predict\n",
        "    score = model.predict([x_test])[0]\n",
        "    # Decode sentiment\n",
        "    label = decode_sentiment(score, include_neutral=include_neutral)\n",
        "\n",
        "    return {\"label\": label, \"score\": float(score),\n",
        "       \"elapsed_time\": time.time()-start_at} "
      ],
      "execution_count": null,
      "outputs": []
    },
    {
      "cell_type": "code",
      "metadata": {
        "id": "oyOFMePFoyyH",
        "colab_type": "code",
        "colab": {
          "base_uri": "https://localhost:8080/",
          "height": 68
        },
        "outputId": "56dd4052-a234-405c-87bd-8e53144d3f4c"
      },
      "source": [
        "%%time\n",
        "y_pred_1d = []\n",
        "y_test_1d = list(df_test.ratings)\n",
        "scores = model.predict(x_test, verbose=1, batch_size=BATCH_SIZE)\n",
        "y_pred_1d = [decode_sentiment(score, include_neutral=False) for score in scores]"
      ],
      "execution_count": null,
      "outputs": [
        {
          "output_type": "stream",
          "text": [
            "52511/52511 [==============================] - 10s 192us/step\n",
            "CPU times: user 7.21 s, sys: 3.03 s, total: 10.2 s\n",
            "Wall time: 10.3 s\n"
          ],
          "name": "stdout"
        }
      ]
    },
    {
      "cell_type": "code",
      "metadata": {
        "id": "Ei-EH8WIozyg",
        "colab_type": "code",
        "colab": {}
      },
      "source": [
        "def plot_confusion_matrix(cm, classes,\n",
        "                          title='Confusion matrix',\n",
        "                          cmap=plt.cm.Blues):\n",
        "    \"\"\"\n",
        "    This function prints and plots the confusion matrix.\n",
        "    Normalization can be applied by setting `normalize=True`.\n",
        "    \"\"\"\n",
        "\n",
        "    cm = cm.astype('float') / cm.sum(axis=1)[:, np.newaxis]\n",
        "\n",
        "    plt.imshow(cm, interpolation='nearest', cmap=cmap)\n",
        "    plt.title(title, fontsize=30)\n",
        "    plt.colorbar()\n",
        "    tick_marks = np.arange(len(classes))\n",
        "    plt.xticks(tick_marks, classes, rotation=90, fontsize=22)\n",
        "    plt.yticks(tick_marks, classes, fontsize=22)\n",
        "\n",
        "    fmt = '.2f'\n",
        "    thresh = cm.max() / 2.\n",
        "    for i, j in itertools.product(range(cm.shape[0]), range(cm.shape[1])):\n",
        "        plt.text(j, i, format(cm[i, j], fmt),\n",
        "                 horizontalalignment=\"center\",\n",
        "                 color=\"white\" if cm[i, j] > thresh else \"black\")\n",
        "\n",
        "    plt.ylabel('True label', fontsize=25)\n",
        "    plt.xlabel('Predicted label', fontsize=25)"
      ],
      "execution_count": null,
      "outputs": []
    },
    {
      "cell_type": "code",
      "metadata": {
        "id": "1Oab2AA7o3T3",
        "colab_type": "code",
        "colab": {
          "base_uri": "https://localhost:8080/",
          "height": 589
        },
        "outputId": "ebabd17c-012a-4b5d-ee3d-a4e33974da3d"
      },
      "source": [
        "%%time\n",
        "\n",
        "cnf_matrix = confusion_matrix(y_test_1d, y_pred_1d)\n",
        "plt.figure(figsize=(8,8))\n",
        "plot_confusion_matrix(cnf_matrix, classes=df_train.ratings.unique(), title=\"Confusion matrix\")\n",
        "plt.show()"
      ],
      "execution_count": null,
      "outputs": [
        {
          "output_type": "display_data",
          "data": {
            "image/png": "[encoded data removed]",
            "text/plain": [
              "<Figure size 576x576 with 2 Axes>"
            ]
          },
          "metadata": {
            "tags": [],
            "needs_background": "light"
          }
        },
        {
          "output_type": "stream",
          "text": [
            "CPU times: user 371 ms, sys: 6.48 ms, total: 377 ms\n",
            "Wall time: 387 ms\n"
          ],
          "name": "stdout"
        }
      ]
    },
    {
      "cell_type": "code",
      "metadata": {
        "id": "bkgJsdnivwG3",
        "colab_type": "code",
        "colab": {
          "base_uri": "https://localhost:8080/",
          "height": 204
        },
        "outputId": "743dca23-3233-4731-8693-9ed6177dedf7"
      },
      "source": [
        "from sklearn.metrics import classification_report\n",
        "from sklearn.metrics import confusion_matrix\n",
        "print(confusion_matrix(y_test_1d, y_pred_1d))\n",
        "print(classification_report(y_test_1d, y_pred_1d))"
      ],
      "execution_count": null,
      "outputs": [
        {
          "output_type": "stream",
          "text": [
            "[[17799  3540]\n",
            " [ 3466 27706]]\n",
            "              precision    recall  f1-score   support\n",
            "\n",
            "     NEGATIF       0.84      0.83      0.84     21339\n",
            "     POSITIF       0.89      0.89      0.89     31172\n",
            "\n",
            "    accuracy                           0.87     52511\n",
            "   macro avg       0.86      0.86      0.86     52511\n",
            "weighted avg       0.87      0.87      0.87     52511\n",
            "\n"
          ],
          "name": "stdout"
        }
      ]
    },
    {
      "cell_type": "code",
      "metadata": {
        "id": "66hn6DQdkaLc",
        "colab_type": "code",
        "colab": {}
      },
      "source": [
        "hasil_akurasi = pd.DataFrame(list(zip(acc,loss,val_acc,val_loss)), \n",
        "               columns =['Akurasi', 'Error','Val Akurasi','Val Loss']) \n",
        "hasil_akurasi.to_excel(nb_path+\"hasil_2.xlsx\")"
      ],
      "execution_count": null,
      "outputs": []
    }
  ]
}